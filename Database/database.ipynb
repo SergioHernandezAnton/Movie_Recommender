{
 "cells": [
  {
   "cell_type": "code",
   "execution_count": 9,
   "metadata": {},
   "outputs": [],
   "source": [
    "from IPython.core.display import HTML\n",
    "def css_styling():   \n",
    "    styles = open(\"styles/custom.css\", \"r\").read() \n",
    "    return HTML(styles) "
   ]
  },
  {
   "cell_type": "code",
   "execution_count": 10,
   "metadata": {},
   "outputs": [
    {
     "name": "stdout",
     "output_type": "stream",
     "text": [
      "Closing\n",
      "Connected successfully!!!\n"
     ]
    },
    {
     "data": {
      "text/plain": [
       "Database(MongoClient(host=['movielens-shard-00-01.8j2mw.mongodb.net:27017', 'movielens-shard-00-02.8j2mw.mongodb.net:27017', 'movielens-shard-00-00.8j2mw.mongodb.net:27017'], document_class=dict, tz_aware=False, connect=True, retrywrites=True, w='majority', appname='MovieLens', authsource='admin', replicaset='atlas-88psll-shard-0', tls=True), 'MovieLens')"
      ]
     },
     "execution_count": 10,
     "metadata": {},
     "output_type": "execute_result"
    }
   ],
   "source": [
    "import pymongo\n",
    "try:\n",
    "    #create a credentials.txt file in this folder:\n",
    "    #first line: Database username (not account username)\n",
    "    #second line: Database username password (not account password)\n",
    "    #third line: Databse url with port (you can find it in the cloud dashboard)\n",
    "    #fourth lin: Database name\n",
    "    if 'conn' in globals():\n",
    "        conn.close()\n",
    "        print(\"Closing\")\n",
    "    \n",
    "    with open(\"credentials.txt\", 'r') as f:\n",
    "        [name,password,url,dbname]=f.read().splitlines()\n",
    "    conn=pymongo.MongoClient(\"mongodb+srv://{}:{}@{}\".format(name,password,url))\n",
    "    print (\"Connected successfully!!!\")\n",
    "    \n",
    "except pymongo.errors.ConnectionFailure as e:\n",
    "    print (\"Could not connect to MongoDB: %s\" % e) \n",
    "conn\n",
    "db = conn[dbname]\n",
    "db\n"
   ]
  },
  {
   "cell_type": "code",
   "execution_count": 11,
   "metadata": {},
   "outputs": [],
   "source": [
    "import pandas as pd\n",
    "file_paths = {\n",
    "    \"movies\": \"../data1/movies_clean.csv\",\n",
    "    \"ratings\": \"../data1/ratings_clean.csv\"\n",
    "}\n",
    "\n",
    "# Load the data into pandas dataframes\n",
    "movies_data = pd.read_csv('../data1/movies_clean.csv', encoding='utf-8', sep = ',', header = 0)\n",
    "ratings_data = pd.read_csv('../data1/ratings_clean.csv', encoding='ascii', sep=',', header = 0)"
   ]
  },
  {
   "cell_type": "code",
   "execution_count": 12,
   "metadata": {},
   "outputs": [],
   "source": [
    "# Add column names\n",
    "# movies_data = movies_df.to_dict(\"records\")\n",
    "# users_data = users_df.to_dict(\"records\")\n",
    "# ratings_data = ratings_df.to_dict(\"records\")"
   ]
  },
  {
   "cell_type": "code",
   "execution_count": 13,
   "metadata": {},
   "outputs": [
    {
     "name": "stdout",
     "output_type": "stream",
     "text": [
      "   movieId                      title                            genres  year\n",
      "0   210479                        NaN             ['Drama', 'Thriller']  2019\n",
      "1    51372  \"Great Performances\" Cats                       ['Musical']  1998\n",
      "2   281280                      \"Sr.\"                   ['Documentary']  2022\n",
      "3   136604        #1 Cheerleader Camp               ['Comedy', 'Drama']  2010\n",
      "4   221850                     #Alive  ['Action', 'Horror', 'Thriller']  2020\n",
      "   userId  movieId  rating               tstamp\n",
      "0   60834     1608     2.0  1997-09-17 17:53:58\n",
      "1   60834     1479     2.0  1997-09-17 17:53:58\n",
      "2   60834     1588     1.0  1997-09-17 17:55:19\n",
      "3   60834     1407     2.0  1997-09-17 17:56:19\n",
      "4   60834     1422     2.0  1997-09-17 17:57:33\n"
     ]
    }
   ],
   "source": [
    "print(movies_data[:5]) \n",
    "print(ratings_data[:5])  \n"
   ]
  },
  {
   "cell_type": "code",
   "execution_count": 14,
   "metadata": {},
   "outputs": [],
   "source": [
    "#MongoDB doesn't allow keys to be anything other than strings (no integers!)\n",
    "def convert_keys_to_strings(data):\n",
    "    return [{str(key): value for key, value in item.items()} for item in data.to_dict(orient='records')]\n",
    "\n",
    "movies_data = convert_keys_to_strings(movies_data)\n",
    "ratings_data = convert_keys_to_strings(ratings_data)"
   ]
  },
  {
   "cell_type": "code",
   "execution_count": 15,
   "metadata": {},
   "outputs": [
    {
     "name": "stdout",
     "output_type": "stream",
     "text": [
      "Datos insertados en MongoDB correctamente!\n"
     ]
    }
   ],
   "source": [
    "db.movies.insert_many(movies_data)\n",
    "\n",
    "db.ratings.insert_many(ratings_data)\n",
    "print(\"Datos insertados en MongoDB correctamente!\")"
   ]
  },
  {
   "cell_type": "code",
   "execution_count": 16,
   "metadata": {},
   "outputs": [
    {
     "name": "stdout",
     "output_type": "stream",
     "text": [
      "{'_id': ObjectId('673dc6e96f761f207f13933d'), 'movieId': 210479, 'title': nan, 'genres': \"['Drama', 'Thriller']\", 'year': '2019'}\n",
      "{'_id': ObjectId('673dc6e96f761f207f13933e'), 'movieId': 51372, 'title': '\"Great Performances\" Cats', 'genres': \"['Musical']\", 'year': '1998'}\n",
      "{'_id': ObjectId('673dc6e96f761f207f13933f'), 'movieId': 281280, 'title': '\"Sr.\"', 'genres': \"['Documentary']\", 'year': '2022'}\n",
      "{'_id': ObjectId('673dc6e96f761f207f139340'), 'movieId': 136604, 'title': '#1 Cheerleader Camp', 'genres': \"['Comedy', 'Drama']\", 'year': '2010'}\n",
      "{'_id': ObjectId('673dc6e96f761f207f139341'), 'movieId': 221850, 'title': '#Alive', 'genres': \"['Action', 'Horror', 'Thriller']\", 'year': '2020'}\n",
      "{'_id': ObjectId('673dc6fa6f761f207f1468b0'), 'userId': 60834, 'movieId': 1608, 'rating': 2.0, 'tstamp': '1997-09-17 17:53:58'}\n",
      "{'_id': ObjectId('673dc6fa6f761f207f1468b1'), 'userId': 60834, 'movieId': 1479, 'rating': 2.0, 'tstamp': '1997-09-17 17:53:58'}\n",
      "{'_id': ObjectId('673dc6fa6f761f207f1468b2'), 'userId': 60834, 'movieId': 1588, 'rating': 1.0, 'tstamp': '1997-09-17 17:55:19'}\n",
      "{'_id': ObjectId('673dc6fa6f761f207f1468b3'), 'userId': 60834, 'movieId': 1407, 'rating': 2.0, 'tstamp': '1997-09-17 17:56:19'}\n",
      "{'_id': ObjectId('673dc6fa6f761f207f1468b4'), 'userId': 60834, 'movieId': 1422, 'rating': 2.0, 'tstamp': '1997-09-17 17:57:33'}\n"
     ]
    }
   ],
   "source": [
    "for movie in db.movies.find().limit(5):\n",
    "    print(movie)\n",
    "\n",
    "for rating in db.ratings.find().limit(5):\n",
    "    print(rating)"
   ]
  },
  {
   "cell_type": "code",
   "execution_count": 17,
   "metadata": {},
   "outputs": [],
   "source": [
    "conn.close()"
   ]
  }
 ],
 "metadata": {
  "kernelspec": {
   "display_name": "agile",
   "language": "python",
   "name": "python3"
  },
  "language_info": {
   "codemirror_mode": {
    "name": "ipython",
    "version": 3
   },
   "file_extension": ".py",
   "mimetype": "text/x-python",
   "name": "python",
   "nbconvert_exporter": "python",
   "pygments_lexer": "ipython3",
   "version": "3.11.9"
  }
 },
 "nbformat": 4,
 "nbformat_minor": 2
}
